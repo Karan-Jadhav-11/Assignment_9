{
 "cells": [
  {
   "cell_type": "raw",
   "id": "41a726db-cbed-4286-9c3a-5cbf9a23aee8",
   "metadata": {},
   "source": [
    "\n",
    "Q2. Differentiate between Abstraction and Encapsulation. Explain with an example.\n",
    "\n",
    "\n"
   ]
  },
  {
   "cell_type": "markdown",
   "id": "6f6d09fc-e33f-4b7a-b5f4-771016afe2f3",
   "metadata": {},
   "source": [
    "### Q1. What is Abstraction in OOps? Explain with an example."
   ]
  },
  {
   "cell_type": "markdown",
   "id": "08f79748-8de5-43fa-90a1-4a17ecbaa0ae",
   "metadata": {},
   "source": [
    "ANS :\n",
    "    In Object-Oriented Programming (OOPs), abstraction is a process of hiding the implementation details from the user and only providing the functionality to the users. In other words, the user will have the information on what the object does instead of how it does it.\n",
    "\n",
    "For example, when you are driving a car, you are using the functionality of the car, such as steering, accelerating, and braking. However, you don't need to know the implementation details, such as how the engine works, how the brakes are applied, or how the steering mechanism works. This is an example of abstraction in real life.\n",
    "\n",
    "In Python, we can achieve abstraction using abstract classes and interfaces. Here's an example of an abstract class that defines a shape with an area method:"
   ]
  },
  {
   "cell_type": "code",
   "execution_count": 1,
   "id": "b72498d0-e26c-46d2-b896-8f8d1973d4fe",
   "metadata": {},
   "outputs": [],
   "source": [
    "from abc import ABC , abstractmethod"
   ]
  },
  {
   "cell_type": "code",
   "execution_count": 6,
   "id": "c87561e9-b262-4dc2-ae58-74a9e2da1999",
   "metadata": {},
   "outputs": [
    {
     "name": "stdout",
     "output_type": "stream",
     "text": [
      "Area of the circle: 153.86\n",
      "Area of the rectangle: 30\n"
     ]
    }
   ],
   "source": [
    "class Shape(ABC):\n",
    "    @abstractmethod\n",
    "    def area(self):\n",
    "        pass\n",
    "    \n",
    "class Circle(Shape):\n",
    "    def __init__(self, radius):\n",
    "        self.radius = radius\n",
    "    def area(self):\n",
    "        return 3.14*self.radius*self.radius\n",
    "    \n",
    "class Rectangle(Shape):\n",
    "    def __init__(self , length, width):\n",
    "        self.length = length\n",
    "        self.width = width\n",
    "    def area(self):\n",
    "        return self.length*self.width\n",
    "\n",
    "circle = Circle(7)\n",
    "rectangle = Rectangle(5 ,6)\n",
    "    \n",
    "print(\"Area of the circle:\", circle.area()) \n",
    "print(\"Area of the rectangle:\", rectangle.area()) \n"
   ]
  },
  {
   "cell_type": "code",
   "execution_count": null,
   "id": "dca3bfb4-2aa5-437f-9fd7-27c8af8b157f",
   "metadata": {},
   "outputs": [],
   "source": []
  },
  {
   "cell_type": "markdown",
   "id": "6c234f05-bfbf-4571-8efb-823c21f7bd76",
   "metadata": {},
   "source": [
    "### Q2. Differentiate between Abstraction and Encapsulation. Explain with an example."
   ]
  },
  {
   "cell_type": "markdown",
   "id": "3dda192c-5e8d-453a-8709-2337127f82f9",
   "metadata": {},
   "source": [
    "ANS : \n",
    "    \n",
    "Abstraction and encapsulation are two fundamental concepts in Object-Oriented Programming (OOPs) that are often used together, but they have different meanings and purposes.\n",
    "\n",
    "\n",
    "Abstraction is the process of hiding the implementation details from the user and only providing the functionality to the users. It deals with the outside view of an object (interface). In other words, it focuses on what the object does instead of how it does it. Abstraction is achieved in Python using abstract classes and interfaces.\n",
    "Example: In the context of a geometric shapes example, an abstract class Shape may define a method like calculate_area(). The actual implementation details of how each shape calculates its area are hidden, providing a high-level view of the common functionality.\n",
    "\n",
    "Encapsulation, on the other hand, is the process of wrapping the data (variables) and the methods that operate on the data within a single unit, i.e., a class. It deals with the internal view of an object. Encapsulation is about data hiding and access control. In other words, it focuses on how the object works and how its data is accessed and modified. Encapsulation is achieved in Python using access modifiers such as public, private, and protected.\n",
    "Example: Continuing with the geometric shapes example, encapsulation involves defining attributes such as radius or length within the shape classes and providing methods to interact with these attributes. For instance, having methods like get_radius() and set_radius() allows controlled access to the radius attribute.\n",
    "\n",
    "### Differentiate between Abstraction and Encapsulation\n",
    "\n",
    "### Abstraction                                                                                                          \n",
    "\n",
    "1. It is the process of gaining information.                                               \n",
    "2. The problems in this technique are solved at the interface level.                      \n",
    "3. It helps hide the unwanted details/information.                                        \n",
    "4. It can be implemented using abstract classes and interfaces.                            \n",
    "5. The complexities of the implementation are hidden using interface and abstract class.   \n",
    "6. Abstraction can be performed using objects that are encapsulated within a single module. \n",
    "\n",
    "###  Encapsulation\n",
    "\n",
    " 1. It is a method that helps wrap up data into a single module.\n",
    "  2. Problems in encapsulation are solved at the implementation level.\n",
    "3. It helps hide data using a single entity, or using a unit with the help of method that helps protect the information.                                  \n",
    "4. It can be implemented using access modifiers like public, private and protected.\n",
    "5. The data is hidden using methods such as getters and setters.\n",
    "6. Objects in encapsulation don't need to be in abstraction.\n"
   ]
  },
  {
   "cell_type": "code",
   "execution_count": 7,
   "id": "29a7a0de-5133-4545-9a43-15d78ac7c484",
   "metadata": {},
   "outputs": [
    {
     "name": "stdout",
     "output_type": "stream",
     "text": [
      "Area of the circle: 78.5\n",
      "Current radius: 5\n",
      "Updated radius: 8\n"
     ]
    }
   ],
   "source": [
    "#  Python example illustrating both abstraction and encapsulation\n",
    "   \n",
    "from abc import ABC, abstractmethod\n",
    "\n",
    "# Abstraction through an abstract class\n",
    "class Shape(ABC):\n",
    "    @abstractmethod\n",
    "    def calculate_area(self):\n",
    "        pass\n",
    "\n",
    "# Encapsulation within concrete classes\n",
    "class Circle(Shape):\n",
    "    def __init__(self, radius):\n",
    "        self._radius = radius  # Encapsulated attribute\n",
    "\n",
    "    def calculate_area(self):\n",
    "        return 3.14 * self._radius * self._radius\n",
    "\n",
    "    # Getter and setter methods for encapsulation\n",
    "    def get_radius(self):\n",
    "        return self._radius\n",
    "\n",
    "    def set_radius(self, radius):\n",
    "        if radius > 0:\n",
    "            self._radius = radius\n",
    "\n",
    "circle = Circle(5)\n",
    "area = circle.calculate_area()\n",
    "print(\"Area of the circle:\", area)  \n",
    "\n",
    "current_radius = circle.get_radius()\n",
    "print(\"Current radius:\", current_radius)  \n",
    "\n",
    "circle.set_radius(8)\n",
    "new_radius = circle.get_radius()\n",
    "print(\"Updated radius:\", new_radius) \n"
   ]
  },
  {
   "cell_type": "code",
   "execution_count": null,
   "id": "5a8a7745-4691-4d04-96cc-953d1bf735c7",
   "metadata": {},
   "outputs": [],
   "source": []
  },
  {
   "cell_type": "markdown",
   "id": "4ef0af37-44b7-49bf-89a0-2ff4017d150e",
   "metadata": {},
   "source": [
    "### Q3. What is abc module in python? Why is it used?\n"
   ]
  },
  {
   "cell_type": "markdown",
   "id": "d6eb68aa-a7ff-4823-99fd-c33f656fa9ed",
   "metadata": {},
   "source": [
    "The abc (Abstract Base Classes) module in Python is a built-in module that provides tools for defining abstract base classes (ABCs) and checking if a class is a subclass of an ABC. ABCs are classes that cannot be instantiated directly and are used to define interfaces or abstract methods that must be implemented by concrete subclasses.\n",
    "\n",
    "The abc module is used for the following purposes:\n",
    "\n",
    "To define abstract base classes that define an interface that must be implemented by concrete subclasses.\n",
    "To check if a class is a subclass of an abstract base class using the isabstractclass() function.\n",
    "To check if an instance is an instance of an abstract base class using the issubclass() function.\n",
    "To generate an error if a concrete subclass does not implement all the abstract methods defined in the ABC using the abstractmethod decorator."
   ]
  },
  {
   "cell_type": "code",
   "execution_count": 11,
   "id": "ccb385fb-cdbb-4ba4-816b-9a1065275ccf",
   "metadata": {},
   "outputs": [
    {
     "name": "stdout",
     "output_type": "stream",
     "text": [
      "Area of the circle: 50.24\n",
      "Area of the rectangle: 24\n"
     ]
    }
   ],
   "source": [
    "class Shape(ABC):\n",
    "    @abstractmethod\n",
    "    def area(self):\n",
    "        pass\n",
    "    \n",
    "class Circle(Shape):\n",
    "    def __init__(self, radius):\n",
    "        self.radius = radius\n",
    "    def area(self):\n",
    "        return 3.14*self.radius*self.radius\n",
    "    \n",
    "class Rectangle(Shape):\n",
    "    def __init__(self , length, width):\n",
    "        self.length = length\n",
    "        self.width = width\n",
    "    def area(self):\n",
    "        return self.length*self.width\n",
    "\n",
    "circle = Circle(4)\n",
    "rectangle = Rectangle(4 ,6)\n",
    "    \n",
    "print(\"Area of the circle:\", circle.area()) \n",
    "print(\"Area of the rectangle:\", rectangle.area()) "
   ]
  },
  {
   "cell_type": "markdown",
   "id": "d453b5d9-8a48-42d3-930e-0363d2c3c4db",
   "metadata": {},
   "source": [
    "In this example, the Shape class is an abstract base class that defines the area method as an abstract method using the @abstractmethod decorator. The Rectangle and Circle classes are concrete subclasses that inherit from the Shape class and provide their own implementation of the area method. If a class does not implement all the abstract methods defined in the ABC, an error will be raised when attempting to create an instance of that class.\n",
    "\n",
    "Using the abc module helps ensure that concrete subclasses implement all the required methods and provides a way to define interfaces or abstract methods that must be implemented by concrete subclasses."
   ]
  },
  {
   "cell_type": "code",
   "execution_count": null,
   "id": "3e00dd75-4e38-4253-84f3-c885de3fb527",
   "metadata": {},
   "outputs": [],
   "source": []
  },
  {
   "cell_type": "markdown",
   "id": "39c63e83-bf4b-4c4e-9aa4-99cd426f2d63",
   "metadata": {},
   "source": [
    "### Q4. How can we achieve data abstraction? "
   ]
  },
  {
   "cell_type": "markdown",
   "id": "db5a880b-964f-4991-9f0d-d7fe2e108f26",
   "metadata": {},
   "source": [
    "ANS : \n",
    "    Abstraction in Python\n",
    "Abstraction is used to hide the internal functionality of the function from the users. The users only interact with the basic implementation of the function, but inner working is hidden. User is familiar with that \"what function does\" but they don't know \"how it does.\"\n",
    "A class that consists of one or more abstract method is called the abstract class. Abstract methods do not contain their implementation. Abstract class can be inherited by the subclass and abstract method gets its definition in the subclass. Abstraction classes are meant to be the blueprint of the other class.\n",
    "\n",
    "Syntax\n",
    "\n",
    "from abc import ABC  \n",
    "class ClassName(ABC):  \n",
    "    \n",
    "Working of the Abstract Classes\n",
    "Unlike the other high-level language, Python doesn't provide the abstract class itself. We need to import the abc module, which provides the base for defining Abstract Base classes (ABC). The ABC works by decorating methods of the base class as abstract. It registers concrete classes as the implementation of the abstract base. We use the @abstractmethod decorator to define an abstract method or if we don't provide the definition to the method, it automatically becomes the abstract method. Let's understand the following example.\n"
   ]
  },
  {
   "cell_type": "code",
   "execution_count": 15,
   "id": "02fe92f7-3ec4-4e5f-8e6a-92d94d9c2fce",
   "metadata": {},
   "outputs": [],
   "source": [
    "# use of abstraction example\n",
    "\n",
    "from abc import ABC, abstractmethod   \n",
    "class Car(ABC):   \n",
    "    def mileage(self):   \n",
    "        pass  \n",
    "  \n",
    "class Tesla(Car):   \n",
    "    def mileage(self):   \n",
    "        print(\"The mileage is 30kmph\")   \n",
    "class Suzuki(Car):   \n",
    "    def mileage(self):   \n",
    "        print(\"The mileage is 25kmph \")   "
   ]
  },
  {
   "cell_type": "code",
   "execution_count": 16,
   "id": "33b243f0-eb59-46bb-ae3b-1f5422328fea",
   "metadata": {},
   "outputs": [
    {
     "name": "stdout",
     "output_type": "stream",
     "text": [
      "The mileage is 30kmph\n"
     ]
    }
   ],
   "source": [
    "t= Tesla ()   \n",
    "t.mileage()   "
   ]
  },
  {
   "cell_type": "code",
   "execution_count": 17,
   "id": "77ff516f-d00c-4a5e-b965-21938ff418db",
   "metadata": {},
   "outputs": [
    {
     "name": "stdout",
     "output_type": "stream",
     "text": [
      "The mileage is 25kmph \n"
     ]
    }
   ],
   "source": [
    "s = Suzuki()   \n",
    "s.mileage()  "
   ]
  },
  {
   "cell_type": "code",
   "execution_count": null,
   "id": "3a6e9d02-a315-4054-a9f8-33343c8fedd1",
   "metadata": {},
   "outputs": [],
   "source": []
  },
  {
   "cell_type": "markdown",
   "id": "eb6427dd-21d8-472e-882f-23ff231ceb99",
   "metadata": {},
   "source": [
    "### Q5. Can we create an instance of an abstract class? Explain your answer."
   ]
  },
  {
   "cell_type": "markdown",
   "id": "fa267042-24d1-4619-9b82-d81e96da9465",
   "metadata": {},
   "source": [
    "No, we cannot create an instance of an abstract class in Python. An abstract class is a class that cannot be instantiated directly and is used to define interfaces or abstract methods that must be implemented by concrete subclasses.\n",
    "\n",
    "An abstract class is defined using the ABC meta class from the abc module, and abstract methods are defined using the @abstractmethod decorator. If a class contains any abstract methods, it must be marked as abstract using the ABCMeta meta class."
   ]
  },
  {
   "cell_type": "code",
   "execution_count": 18,
   "id": "d69505ac-8602-49dd-a084-743befa5a2b9",
   "metadata": {},
   "outputs": [
    {
     "ename": "TypeError",
     "evalue": "Can't instantiate abstract class Shape with abstract method area",
     "output_type": "error",
     "traceback": [
      "\u001b[0;31m---------------------------------------------------------------------------\u001b[0m",
      "\u001b[0;31mTypeError\u001b[0m                                 Traceback (most recent call last)",
      "Cell \u001b[0;32mIn[18], line 9\u001b[0m\n\u001b[1;32m      6\u001b[0m         \u001b[38;5;28;01mpass\u001b[39;00m\n\u001b[1;32m      8\u001b[0m \u001b[38;5;66;03m# This will raise a TypeError\u001b[39;00m\n\u001b[0;32m----> 9\u001b[0m rect \u001b[38;5;241m=\u001b[39m \u001b[43mShape\u001b[49m\u001b[43m(\u001b[49m\u001b[43m)\u001b[49m\n\u001b[1;32m     10\u001b[0m \u001b[38;5;66;03m# here we can not creat the inatance of abstract class we have to inherite it in sub class\u001b[39;00m\n",
      "\u001b[0;31mTypeError\u001b[0m: Can't instantiate abstract class Shape with abstract method area"
     ]
    }
   ],
   "source": [
    "from abc import ABC, abstractmethod\n",
    "\n",
    "class Shape(ABC):\n",
    "    @abstractmethod\n",
    "    def area(self):\n",
    "        pass\n",
    "\n",
    "# This will raise a TypeError\n",
    "rect = Shape()\n",
    "# here we can not creat the inatance of abstract class we have to inherite it in sub class\n"
   ]
  },
  {
   "cell_type": "code",
   "execution_count": 25,
   "id": "daee478f-de14-4679-8a58-9d73481b8774",
   "metadata": {},
   "outputs": [
    {
     "name": "stdout",
     "output_type": "stream",
     "text": [
      "AREA OF RECTANGLE  50\n"
     ]
    }
   ],
   "source": [
    "class Rectangle(Shape):\n",
    "    def __init__(self, width, height):\n",
    "        self.width = width\n",
    "        self.height = height\n",
    "\n",
    "    def area(self):\n",
    "        return self.width * self.height\n",
    "\n",
    "# This will not raise an error\n",
    "rect = Rectangle(5, 10)\n",
    "print(\"AREA OF RECTANGLE \" , rect.area())"
   ]
  },
  {
   "cell_type": "code",
   "execution_count": null,
   "id": "c60d110e-5198-4e74-a8a3-dae419078979",
   "metadata": {},
   "outputs": [],
   "source": []
  }
 ],
 "metadata": {
  "kernelspec": {
   "display_name": "Python 3 (ipykernel)",
   "language": "python",
   "name": "python3"
  },
  "language_info": {
   "codemirror_mode": {
    "name": "ipython",
    "version": 3
   },
   "file_extension": ".py",
   "mimetype": "text/x-python",
   "name": "python",
   "nbconvert_exporter": "python",
   "pygments_lexer": "ipython3",
   "version": "3.10.8"
  }
 },
 "nbformat": 4,
 "nbformat_minor": 5
}
